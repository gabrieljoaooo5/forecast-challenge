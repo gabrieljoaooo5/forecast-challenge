{
 "cells": [
  {
   "cell_type": "code",
   "execution_count": 1,
   "metadata": {},
   "outputs": [],
   "source": [
    "import pandas as pd\n",
    "import numpy as np\n",
    "from datetime import datetime\n",
    "import unidecode\n",
    "\n",
    "df_2015 = pd.read_csv(\"../dataset/acidentes-transito-2015.csv\", parse_dates=['data'])\n",
    "df_2016 = pd.read_csv(\"../dataset/acidentes_2016.csv\", parse_dates=['data'])\n",
    "df_2017 = pd.read_csv(\"../dataset/acidentes_2017.csv\", parse_dates=['data'])\n",
    "df_2018 = pd.read_csv(\"../dataset/acidentes_2018.csv\", parse_dates=['data'])\n",
    "df_2019 = pd.read_csv(\"../dataset/acidentes-2019.csv\", parse_dates=['data'])\n",
    "\n",
    "df_neighborhood = pd.read_csv(\"../dataset/bairros_recife.csv\")\n",
    "df_neighborhood.Bairros = df_neighborhood.Bairros.apply(lambda b: b.split(', '))"
   ]
  },
  {
   "cell_type": "code",
   "execution_count": null,
   "metadata": {},
   "outputs": [],
   "source": []
  },
  {
   "cell_type": "code",
   "execution_count": 19,
   "metadata": {},
   "outputs": [],
   "source": [
    "def getOccurrencesPerDay(df):\n",
    "    return pd.DataFrame(df.data.value_counts())\n",
    "\n",
    "def setShiftByTime(time):\n",
    "    hour = time[:2]\n",
    "    if (hour >= 5 and hour < 12):\n",
    "        return 'manha'\n",
    "    if (hour >= 12 and hour < 17):\n",
    "        return 'tarde'\n",
    "    if (hour >= 17 and hour < 22):\n",
    "        return 'noite'\n",
    "    else:\n",
    "        return 'madrugada'\n",
    "    \n",
    "def isWeekday(date):\n",
    "    weekday = df_2015.data.iloc[0].weekday()\n",
    "    if (weekday == 5 or weekday == 6):\n",
    "        return false\n",
    "    return True"
   ]
  },
  {
   "cell_type": "code",
   "execution_count": 21,
   "metadata": {},
   "outputs": [
    {
     "name": "stdout",
     "output_type": "stream",
     "text": [
      "<class 'pandas.core.frame.DataFrame'>\n",
      "RangeIndex: 7273 entries, 0 to 7272\n",
      "Data columns (total 24 columns):\n",
      " #   Column             Non-Null Count  Dtype         \n",
      "---  ------             --------------  -----         \n",
      " 0   natureza_acidente  7273 non-null   object        \n",
      " 1   situacao           7272 non-null   object        \n",
      " 2   data               7273 non-null   datetime64[ns]\n",
      " 3   hora               7273 non-null   object        \n",
      " 4   bairro             7223 non-null   object        \n",
      " 5   endereco           7203 non-null   object        \n",
      " 6   numero             2456 non-null   float64       \n",
      " 7   complemento        7171 non-null   object        \n",
      " 8   natureza           7206 non-null   object        \n",
      " 9   descricao          7053 non-null   object        \n",
      " 10  auto               6585 non-null   object        \n",
      " 11  moto               2511 non-null   object        \n",
      " 12  ciclom             469 non-null    object        \n",
      " 13  ciclista           137 non-null    object        \n",
      " 14  pedestre           103 non-null    float64       \n",
      " 15  onibus             887 non-null    float64       \n",
      " 16  caminhao           799 non-null    float64       \n",
      " 17  viatura            179 non-null    float64       \n",
      " 18  outros             95 non-null     float64       \n",
      " 19  vitimas            6199 non-null   float64       \n",
      " 20  Unnamed: 20        859 non-null    float64       \n",
      " 21  Unnamed: 21        163 non-null    float64       \n",
      " 22  Unnamed: 22        39 non-null     float64       \n",
      " 23  Unnamed: 23        3 non-null      float64       \n",
      "dtypes: datetime64[ns](1), float64(11), object(12)\n",
      "memory usage: 1.3+ MB\n"
     ]
    }
   ],
   "source": [
    "df_2015.info()"
   ]
  },
  {
   "cell_type": "code",
   "execution_count": 24,
   "metadata": {},
   "outputs": [
    {
     "data": {
      "text/html": [
       "<div>\n",
       "<style scoped>\n",
       "    .dataframe tbody tr th:only-of-type {\n",
       "        vertical-align: middle;\n",
       "    }\n",
       "\n",
       "    .dataframe tbody tr th {\n",
       "        vertical-align: top;\n",
       "    }\n",
       "\n",
       "    .dataframe thead th {\n",
       "        text-align: right;\n",
       "    }\n",
       "</style>\n",
       "<table border=\"1\" class=\"dataframe\">\n",
       "  <thead>\n",
       "    <tr style=\"text-align: right;\">\n",
       "      <th></th>\n",
       "      <th>RPA</th>\n",
       "      <th>Bairros</th>\n",
       "    </tr>\n",
       "  </thead>\n",
       "  <tbody>\n",
       "    <tr>\n",
       "      <th>0</th>\n",
       "      <td>Centro</td>\n",
       "      <td>[recife, santo amaro, boa vista, cabanga, ilha...</td>\n",
       "    </tr>\n",
       "    <tr>\n",
       "      <th>1</th>\n",
       "      <td>Norte</td>\n",
       "      <td>[arruda, campina do barreto, campo grande, enc...</td>\n",
       "    </tr>\n",
       "    <tr>\n",
       "      <th>2</th>\n",
       "      <td>Noroeste</td>\n",
       "      <td>[aflitos, alto do mandu, apipucos, casa amarel...</td>\n",
       "    </tr>\n",
       "    <tr>\n",
       "      <th>3</th>\n",
       "      <td>Oeste</td>\n",
       "      <td>[cordeiro, ilha do retiro, iputinga, madalena,...</td>\n",
       "    </tr>\n",
       "    <tr>\n",
       "      <th>4</th>\n",
       "      <td>Sudoeste</td>\n",
       "      <td>[afogados, bongi, mangueira, mustardinha, san ...</td>\n",
       "    </tr>\n",
       "    <tr>\n",
       "      <th>5</th>\n",
       "      <td>Sul</td>\n",
       "      <td>[boa viagem, brasilia teimosa, imbiribeira, ip...</td>\n",
       "    </tr>\n",
       "  </tbody>\n",
       "</table>\n",
       "</div>"
      ],
      "text/plain": [
       "        RPA                                            Bairros\n",
       "0    Centro  [recife, santo amaro, boa vista, cabanga, ilha...\n",
       "1     Norte  [arruda, campina do barreto, campo grande, enc...\n",
       "2  Noroeste  [aflitos, alto do mandu, apipucos, casa amarel...\n",
       "3     Oeste  [cordeiro, ilha do retiro, iputinga, madalena,...\n",
       "4  Sudoeste  [afogados, bongi, mangueira, mustardinha, san ...\n",
       "5       Sul  [boa viagem, brasilia teimosa, imbiribeira, ip..."
      ]
     },
     "execution_count": 24,
     "metadata": {},
     "output_type": "execute_result"
    }
   ],
   "source": [
    "df_neighborhood = pd.read_csv(\"../dataset/bairros_recife.csv\")\n",
    "df_neighborhood.Bairros = df_neighborhood.Bairros.apply(lambda b: b.split(', '))\n",
    "df_neighborhood"
   ]
  },
  {
   "cell_type": "code",
   "execution_count": 25,
   "metadata": {},
   "outputs": [
    {
     "name": "stdout",
     "output_type": "stream",
     "text": [
      "<class 'pandas.core.frame.DataFrame'>\n",
      "RangeIndex: 1675 entries, 0 to 1674\n",
      "Data columns (total 2 columns):\n",
      " #   Column          Non-Null Count  Dtype         \n",
      "---  ------          --------------  -----         \n",
      " 0   Date            1675 non-null   datetime64[ns]\n",
      " 1   Total_Accident  1675 non-null   int64         \n",
      "dtypes: datetime64[ns](1), int64(1)\n",
      "memory usage: 26.3 KB\n"
     ]
    }
   ],
   "source": [
    "def getOccurrencesPerDay(df):\n",
    "    return pd.DataFrame(df.data.value_counts())\n",
    "\n",
    "frames = [getOccurrencesPerDay(df_2015), getOccurrencesPerDay(df_2016), getOccurrencesPerDay(df_2017), getOccurrencesPerDay(df_2018), getOccurrencesPerDay(df_2019)]\n",
    "df = pd.concat(frames)\n",
    "df.sort_index(inplace=True)\n",
    "df.reset_index(inplace=True)\n",
    "df.columns=  ['Date', 'Total_Accident']\n",
    "df.info()\n"
   ]
  },
  {
   "cell_type": "code",
   "execution_count": 28,
   "metadata": {},
   "outputs": [
    {
     "name": "stdout",
     "output_type": "stream",
     "text": [
      "Collecting pmdarima\n",
      "  Downloading pmdarima-1.8.2-cp38-cp38-win_amd64.whl (596 kB)\n",
      "Requirement already satisfied: statsmodels!=0.12.0,>=0.11 in c:\\users\\joaog\\anaconda3\\lib\\site-packages (from pmdarima) (0.11.1)\n",
      "Requirement already satisfied: pandas>=0.19 in c:\\users\\joaog\\anaconda3\\lib\\site-packages (from pmdarima) (1.0.5)\n",
      "Requirement already satisfied: joblib>=0.11 in c:\\users\\joaog\\anaconda3\\lib\\site-packages (from pmdarima) (0.16.0)\n",
      "Requirement already satisfied: scikit-learn>=0.22 in c:\\users\\joaog\\anaconda3\\lib\\site-packages (from pmdarima) (0.23.1)\n",
      "Requirement already satisfied: setuptools!=50.0.0,>=38.6.0 in c:\\users\\joaog\\anaconda3\\lib\\site-packages (from pmdarima) (49.2.0.post20200714)\n",
      "Requirement already satisfied: Cython!=0.29.18,>=0.29 in c:\\users\\joaog\\anaconda3\\lib\\site-packages (from pmdarima) (0.29.21)\n",
      "Requirement already satisfied: scipy>=1.3.2 in c:\\users\\joaog\\anaconda3\\lib\\site-packages (from pmdarima) (1.5.0)\n",
      "Requirement already satisfied: urllib3 in c:\\users\\joaog\\anaconda3\\lib\\site-packages (from pmdarima) (1.25.9)\n",
      "Requirement already satisfied: numpy~=1.19.0 in c:\\users\\joaog\\anaconda3\\lib\\site-packages (from pmdarima) (1.19.2)\n",
      "Requirement already satisfied: patsy>=0.5 in c:\\users\\joaog\\anaconda3\\lib\\site-packages (from statsmodels!=0.12.0,>=0.11->pmdarima) (0.5.1)\n",
      "Requirement already satisfied: pytz>=2017.2 in c:\\users\\joaog\\anaconda3\\lib\\site-packages (from pandas>=0.19->pmdarima) (2020.1)\n",
      "Requirement already satisfied: python-dateutil>=2.6.1 in c:\\users\\joaog\\anaconda3\\lib\\site-packages (from pandas>=0.19->pmdarima) (2.8.1)\n",
      "Requirement already satisfied: threadpoolctl>=2.0.0 in c:\\users\\joaog\\anaconda3\\lib\\site-packages (from scikit-learn>=0.22->pmdarima) (2.1.0)\n",
      "Requirement already satisfied: six in c:\\users\\joaog\\anaconda3\\lib\\site-packages (from patsy>=0.5->statsmodels!=0.12.0,>=0.11->pmdarima) (1.15.0)\n",
      "Installing collected packages: pmdarima\n",
      "Successfully installed pmdarima-1.8.2\n"
     ]
    }
   ],
   "source": [
    "!pip install pmdarima\n",
    "import pandas as pd\n",
    "import matplotlib.pyplot as plt \n",
    "#from statsmodels.tsa.stattools import adfullerfrom # to do ADF test\n",
    "from statsmodels.graphics.tsaplots import plot_acf, plot_pacf \n",
    "from statsmodels.tsa.arima_model import ARIMA # to do predictions\n",
    "from sklearn.model_selection import train_test_split\n",
    "from pmdarima.arima import auto_arima # a wrapper\n",
    "import requests, io"
   ]
  },
  {
   "cell_type": "code",
   "execution_count": 31,
   "metadata": {},
   "outputs": [
    {
     "name": "stdout",
     "output_type": "stream",
     "text": [
      "Performing stepwise search to minimize aic\n",
      " ARIMA(2,0,2)(0,0,0)[0] intercept   : AIC=12631.840, Time=3.78 sec\n",
      " ARIMA(0,0,0)(0,0,0)[0] intercept   : AIC=12727.640, Time=0.08 sec\n",
      " ARIMA(1,0,0)(0,0,0)[0] intercept   : AIC=12638.677, Time=0.10 sec\n",
      " ARIMA(0,0,1)(0,0,0)[0] intercept   : AIC=12627.259, Time=0.51 sec\n",
      " ARIMA(0,0,0)(0,0,0)[0]             : AIC=16555.575, Time=0.03 sec\n",
      " ARIMA(1,0,1)(0,0,0)[0] intercept   : AIC=12627.842, Time=1.71 sec\n",
      " ARIMA(0,0,2)(0,0,0)[0] intercept   : AIC=12627.922, Time=0.53 sec\n",
      " ARIMA(1,0,2)(0,0,0)[0] intercept   : AIC=12629.909, Time=0.51 sec\n",
      " ARIMA(0,0,1)(0,0,0)[0]             : AIC=15149.701, Time=0.28 sec\n",
      "\n",
      "Best model:  ARIMA(0,0,1)(0,0,0)[0] intercept\n",
      "Total fit time: 7.543 seconds\n"
     ]
    },
    {
     "data": {
      "text/plain": [
       "ARIMA(order=(0, 0, 1), scoring_args={}, suppress_warnings=True)"
      ]
     },
     "execution_count": 31,
     "metadata": {},
     "output_type": "execute_result"
    }
   ],
   "source": [
    "model = auto_arima(df.set_index('Date'), trace=True, error_action='ignore', suppress_warnings=True,stationary=True)\n",
    "model.fit(df.set_index('Date'))"
   ]
  },
  {
   "cell_type": "code",
   "execution_count": 30,
   "metadata": {},
   "outputs": [
    {
     "name": "stdout",
     "output_type": "stream",
     "text": [
      "<class 'pandas.core.frame.DataFrame'>\n",
      "DatetimeIndex: 365 entries, 1959-01-01 to 1959-12-31\n",
      "Data columns (total 1 columns):\n",
      " #   Column  Non-Null Count  Dtype\n",
      "---  ------  --------------  -----\n",
      " 0   Births  365 non-null    int64\n",
      "dtypes: int64(1)\n",
      "memory usage: 5.7 KB\n"
     ]
    },
    {
     "name": "stderr",
     "output_type": "stream",
     "text": [
      "<ipython-input-30-0f0908864bdf>:4: FutureWarning: The pandas.datetime class is deprecated and will be removed from pandas in a future version. Import from datetime module instead.\n",
      "  return pd.datetime.strptime(x,'%Y-%m-%d')\n"
     ]
    }
   ],
   "source": [
    "url = \"https://raw.githubusercontent.com/jbrownlee/Datasets/master/daily-total-female-births.csv\"\n",
    "s = requests.get(url).content\n",
    "def parser(x):    \n",
    "    return pd.datetime.strptime(x,'%Y-%m-%d')\n",
    "birth = pd.read_csv(io.StringIO(s.decode('utf-8')), index_col=0, parse_dates=[0], date_parser=parser)\n",
    "birth.info()"
   ]
  },
  {
   "cell_type": "code",
   "execution_count": 32,
   "metadata": {},
   "outputs": [
    {
     "name": "stderr",
     "output_type": "stream",
     "text": [
      "C:\\Users\\joaog\\anaconda3\\lib\\site-packages\\statsmodels\\tsa\\base\\tsa_model.py:159: ValueWarning: No frequency information was provided, so inferred frequency D will be used.\n",
      "  warnings.warn('No frequency information was'\n",
      "C:\\Users\\joaog\\anaconda3\\lib\\site-packages\\statsmodels\\tsa\\tsatools.py:689: RuntimeWarning: overflow encountered in exp\n",
      "  newparams = ((1-np.exp(-params))/(1+np.exp(-params))).copy()\n",
      "C:\\Users\\joaog\\anaconda3\\lib\\site-packages\\statsmodels\\tsa\\tsatools.py:689: RuntimeWarning: invalid value encountered in true_divide\n",
      "  newparams = ((1-np.exp(-params))/(1+np.exp(-params))).copy()\n",
      "C:\\Users\\joaog\\anaconda3\\lib\\site-packages\\statsmodels\\tsa\\tsatools.py:690: RuntimeWarning: overflow encountered in exp\n",
      "  tmp = ((1-np.exp(-params))/(1+np.exp(-params))).copy()\n",
      "C:\\Users\\joaog\\anaconda3\\lib\\site-packages\\statsmodels\\tsa\\tsatools.py:690: RuntimeWarning: invalid value encountered in true_divide\n",
      "  tmp = ((1-np.exp(-params))/(1+np.exp(-params))).copy()\n"
     ]
    },
    {
     "name": "stdout",
     "output_type": "stream",
     "text": [
      "                              ARMA Model Results                              \n",
      "==============================================================================\n",
      "Dep. Variable:         Total_Accident   No. Observations:                 1675\n",
      "Model:                     ARMA(2, 2)   Log Likelihood               -6165.003\n",
      "Method:                       css-mle   S.D. of innovations              9.573\n",
      "Date:                Mon, 09 Aug 2021   AIC                          12342.007\n",
      "Time:                        20:14:20   BIC                          12374.548\n",
      "Sample:                    06-01-2015   HQIC                         12354.063\n",
      "                         - 12-31-2019                                         \n",
      "========================================================================================\n",
      "                           coef    std err          z      P>|z|      [0.025      0.975]\n",
      "----------------------------------------------------------------------------------------\n",
      "const                   32.0994      0.235    136.410      0.000      31.638      32.561\n",
      "ar.L1.Total_Accident     1.2472      0.000   4882.053      0.000       1.247       1.248\n",
      "ar.L2.Total_Accident    -0.9999      0.000  -7382.152      0.000      -1.000      -1.000\n",
      "ma.L1.Total_Accident    -1.2417      0.003   -366.612      0.000      -1.248      -1.235\n",
      "ma.L2.Total_Accident     0.9989      0.003    332.158      0.000       0.993       1.005\n",
      "                                    Roots                                    \n",
      "=============================================================================\n",
      "                  Real          Imaginary           Modulus         Frequency\n",
      "-----------------------------------------------------------------------------\n",
      "AR.1            0.6237           -0.7817j            1.0000           -0.1428\n",
      "AR.2            0.6237           +0.7817j            1.0000            0.1428\n",
      "MA.1            0.6215           -0.7841j            1.0006           -0.1433\n",
      "MA.2            0.6215           +0.7841j            1.0006            0.1433\n",
      "-----------------------------------------------------------------------------\n"
     ]
    }
   ],
   "source": [
    "model = ARIMA(df.set_index('Date'), order=(2,0,2))\n",
    "model_fit = model.fit()\n",
    "print(model_fit.summary())"
   ]
  },
  {
   "cell_type": "code",
   "execution_count": 33,
   "metadata": {},
   "outputs": [
    {
     "ename": "AttributeError",
     "evalue": "'ARMAResults' object has no attribute 'score'",
     "output_type": "error",
     "traceback": [
      "\u001b[1;31m---------------------------------------------------------------------------\u001b[0m",
      "\u001b[1;31mAttributeError\u001b[0m                            Traceback (most recent call last)",
      "\u001b[1;32m<ipython-input-33-14c787fd6237>\u001b[0m in \u001b[0;36m<module>\u001b[1;34m\u001b[0m\n\u001b[1;32m----> 1\u001b[1;33m \u001b[0mmodel_fit\u001b[0m\u001b[1;33m.\u001b[0m\u001b[0mscore\u001b[0m\u001b[1;33m(\u001b[0m\u001b[1;33m)\u001b[0m\u001b[1;33m\u001b[0m\u001b[1;33m\u001b[0m\u001b[0m\n\u001b[0m",
      "\u001b[1;32m~\\anaconda3\\lib\\site-packages\\statsmodels\\base\\wrapper.py\u001b[0m in \u001b[0;36m__getattribute__\u001b[1;34m(self, attr)\u001b[0m\n\u001b[0;32m     34\u001b[0m             \u001b[1;32mpass\u001b[0m\u001b[1;33m\u001b[0m\u001b[1;33m\u001b[0m\u001b[0m\n\u001b[0;32m     35\u001b[0m \u001b[1;33m\u001b[0m\u001b[0m\n\u001b[1;32m---> 36\u001b[1;33m         \u001b[0mobj\u001b[0m \u001b[1;33m=\u001b[0m \u001b[0mgetattr\u001b[0m\u001b[1;33m(\u001b[0m\u001b[0mresults\u001b[0m\u001b[1;33m,\u001b[0m \u001b[0mattr\u001b[0m\u001b[1;33m)\u001b[0m\u001b[1;33m\u001b[0m\u001b[1;33m\u001b[0m\u001b[0m\n\u001b[0m\u001b[0;32m     37\u001b[0m         \u001b[0mdata\u001b[0m \u001b[1;33m=\u001b[0m \u001b[0mresults\u001b[0m\u001b[1;33m.\u001b[0m\u001b[0mmodel\u001b[0m\u001b[1;33m.\u001b[0m\u001b[0mdata\u001b[0m\u001b[1;33m\u001b[0m\u001b[1;33m\u001b[0m\u001b[0m\n\u001b[0;32m     38\u001b[0m         \u001b[0mhow\u001b[0m \u001b[1;33m=\u001b[0m \u001b[0mself\u001b[0m\u001b[1;33m.\u001b[0m\u001b[0m_wrap_attrs\u001b[0m\u001b[1;33m.\u001b[0m\u001b[0mget\u001b[0m\u001b[1;33m(\u001b[0m\u001b[0mattr\u001b[0m\u001b[1;33m)\u001b[0m\u001b[1;33m\u001b[0m\u001b[1;33m\u001b[0m\u001b[0m\n",
      "\u001b[1;31mAttributeError\u001b[0m: 'ARMAResults' object has no attribute 'score'"
     ]
    }
   ],
   "source": [
    "model_fit.score()"
   ]
  },
  {
   "cell_type": "code",
   "execution_count": null,
   "metadata": {},
   "outputs": [],
   "source": []
  }
 ],
 "metadata": {
  "kernelspec": {
   "display_name": "Python 3",
   "language": "python",
   "name": "python3"
  },
  "language_info": {
   "codemirror_mode": {
    "name": "ipython",
    "version": 3
   },
   "file_extension": ".py",
   "mimetype": "text/x-python",
   "name": "python",
   "nbconvert_exporter": "python",
   "pygments_lexer": "ipython3",
   "version": "3.8.3"
  }
 },
 "nbformat": 4,
 "nbformat_minor": 4
}
